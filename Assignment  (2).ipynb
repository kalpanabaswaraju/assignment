{
 "cells": [
  {
   "cell_type": "code",
   "execution_count": 21,
   "id": "151ffd2a",
   "metadata": {},
   "outputs": [
    {
     "name": "stdout",
     "output_type": "stream",
     "text": [
      "Sample list: [4, 5, 2, 9]\n",
      "Square of the list: \n",
      "[16, 25, 4, 81]\n"
     ]
    }
   ],
   "source": [
    "def square(k):\n",
    "    return k\n",
    "sample_list = [4, 5, 2, 9]\n",
    "print(\"Sample list:\", sample_list)\n",
    "res = map(lambda a: a**2, sample_list)\n",
    "print(\"Square of the list: \")\n",
    "print(list(res))"
   ]
  },
  {
   "cell_type": "code",
   "execution_count": null,
   "id": "962ac807",
   "metadata": {},
   "outputs": [],
   "source": []
  }
 ],
 "metadata": {
  "kernelspec": {
   "display_name": "Python 3 (ipykernel)",
   "language": "python",
   "name": "python3"
  },
  "language_info": {
   "codemirror_mode": {
    "name": "ipython",
    "version": 3
   },
   "file_extension": ".py",
   "mimetype": "text/x-python",
   "name": "python",
   "nbconvert_exporter": "python",
   "pygments_lexer": "ipython3",
   "version": "3.10.0"
  }
 },
 "nbformat": 4,
 "nbformat_minor": 5
}
