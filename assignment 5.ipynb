{
 "cells": [
  {
   "cell_type": "code",
   "execution_count": 5,
   "id": "533b5991",
   "metadata": {},
   "outputs": [
    {
     "name": "stdout",
     "output_type": "stream",
     "text": [
      "Power is  100\n"
     ]
    }
   ],
   "source": [
    "def power(x, n):\n",
    "    res = 1\n",
    "     \n",
    "    while (n > 0):\n",
    "        if ((n & 1) == 1) :\n",
    "            res = res * x\n",
    "        n = n // 2\n",
    "        x = x * x\n",
    "     \n",
    "    return res\n",
    "x = 10\n",
    "n = 2\n",
    " \n",
    "print(\"Power is \", power(x, n))"
   ]
  }
 ],
 "metadata": {
  "kernelspec": {
   "display_name": "Python 3 (ipykernel)",
   "language": "python",
   "name": "python3"
  },
  "language_info": {
   "codemirror_mode": {
    "name": "ipython",
    "version": 3
   },
   "file_extension": ".py",
   "mimetype": "text/x-python",
   "name": "python",
   "nbconvert_exporter": "python",
   "pygments_lexer": "ipython3",
   "version": "3.10.0"
  }
 },
 "nbformat": 4,
 "nbformat_minor": 5
}
