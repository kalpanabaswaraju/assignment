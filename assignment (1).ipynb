{
 "cells": [
  {
   "cell_type": "code",
   "execution_count": 29,
   "id": "3932c32c",
   "metadata": {},
   "outputs": [],
   "source": [
    "s = (lambda x, y: x + y)(10,25)"
   ]
  },
  {
   "cell_type": "code",
   "execution_count": 27,
   "id": "8c2979d6",
   "metadata": {},
   "outputs": [
    {
     "data": {
      "text/plain": [
       "32"
      ]
     },
     "execution_count": 27,
     "metadata": {},
     "output_type": "execute_result"
    }
   ],
   "source": [
    "s"
   ]
  }
 ],
 "metadata": {
  "kernelspec": {
   "display_name": "Python 3 (ipykernel)",
   "language": "python",
   "name": "python3"
  },
  "language_info": {
   "codemirror_mode": {
    "name": "ipython",
    "version": 3
   },
   "file_extension": ".py",
   "mimetype": "text/x-python",
   "name": "python",
   "nbconvert_exporter": "python",
   "pygments_lexer": "ipython3",
   "version": "3.10.0"
  }
 },
 "nbformat": 4,
 "nbformat_minor": 5
}
