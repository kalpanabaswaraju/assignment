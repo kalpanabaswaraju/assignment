{
 "cells": [
  {
   "cell_type": "code",
   "execution_count": 43,
   "id": "5cd10680",
   "metadata": {},
   "outputs": [],
   "source": [
    "class Power:\n",
    "    x = 10\n",
    "    n = 2\n",
    "    \n",
    "    def __init__(self, x, n):\n",
    "        self.x = x\n",
    "        self.n = n\n",
    "    @classmethod\n",
    "    def Display(cls, x, n):\n",
    "        p = x**n\n",
    "        return \"%s to the power of %s is %s\" % (x, n, p)"
   ]
  },
  {
   "cell_type": "code",
   "execution_count": 44,
   "id": "27b2131b",
   "metadata": {},
   "outputs": [
    {
     "data": {
      "text/plain": [
       "'10 to the power of 2 is 100'"
      ]
     },
     "execution_count": 44,
     "metadata": {},
     "output_type": "execute_result"
    }
   ],
   "source": [
    "obj = Power(10, 2)\n",
    "p = obj.Display(10, 2)\n",
    "p"
   ]
  },
  {
   "cell_type": "code",
   "execution_count": 45,
   "id": "60f74b9b",
   "metadata": {},
   "outputs": [
    {
     "data": {
      "text/plain": [
       "'10 to the power of 2 is 100'"
      ]
     },
     "execution_count": 45,
     "metadata": {},
     "output_type": "execute_result"
    }
   ],
   "source": [
    "Power.Display(10, 2)"
   ]
  },
  {
   "cell_type": "code",
   "execution_count": null,
   "id": "662e76af",
   "metadata": {},
   "outputs": [],
   "source": []
  }
 ],
 "metadata": {
  "kernelspec": {
   "display_name": "Python 3 (ipykernel)",
   "language": "python",
   "name": "python3"
  },
  "language_info": {
   "codemirror_mode": {
    "name": "ipython",
    "version": 3
   },
   "file_extension": ".py",
   "mimetype": "text/x-python",
   "name": "python",
   "nbconvert_exporter": "python",
   "pygments_lexer": "ipython3",
   "version": "3.10.0"
  }
 },
 "nbformat": 4,
 "nbformat_minor": 5
}
